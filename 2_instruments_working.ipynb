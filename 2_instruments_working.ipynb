{
 "cells": [
  {
   "cell_type": "markdown",
   "metadata": {},
   "source": [
    "### initialise things"
   ]
  },
  {
   "cell_type": "code",
   "execution_count": 1,
   "metadata": {},
   "outputs": [
    {
     "ename": "ModuleNotFoundError",
     "evalue": "No module named 'tabulate'",
     "output_type": "error",
     "traceback": [
      "\u001b[31m---------------------------------------------------------------------------\u001b[39m",
      "\u001b[31mModuleNotFoundError\u001b[39m                       Traceback (most recent call last)",
      "\u001b[36mCell\u001b[39m\u001b[36m \u001b[39m\u001b[32mIn[1]\u001b[39m\u001b[32m, line 7\u001b[39m\n\u001b[32m      5\u001b[39m importlib.reload(inst)\n\u001b[32m      6\u001b[39m \u001b[38;5;28;01mimport\u001b[39;00m\u001b[38;5;250m \u001b[39m\u001b[34;01mpandas\u001b[39;00m\u001b[38;5;250m \u001b[39m\u001b[38;5;28;01mas\u001b[39;00m\u001b[38;5;250m \u001b[39m\u001b[34;01mpd\u001b[39;00m\n\u001b[32m----> \u001b[39m\u001b[32m7\u001b[39m \u001b[38;5;28;01mimport\u001b[39;00m\u001b[38;5;250m \u001b[39m\u001b[34;01mtabulate\u001b[39;00m\u001b[38;5;250m \u001b[39m\u001b[38;5;28;01mas\u001b[39;00m\u001b[38;5;250m \u001b[39m\u001b[34;01mtb\u001b[39;00m\n",
      "\u001b[31mModuleNotFoundError\u001b[39m: No module named 'tabulate'"
     ]
    }
   ],
   "source": [
    "import importlib\n",
    "import curve_classes_and_functions as zCurve\n",
    "importlib.reload(zCurve)\n",
    "import instrument_classes as inst\n",
    "importlib.reload(inst)\n",
    "import pandas as pd\n",
    "import tabulate as tb"
   ]
  },
  {
   "cell_type": "markdown",
   "metadata": {},
   "source": [
    "### Start by setting up a zero curve for the purposes of running PV calcs on the instruments"
   ]
  },
  {
   "cell_type": "code",
   "execution_count": 4,
   "metadata": {},
   "outputs": [],
   "source": [
    "# create an instance of the ZeroCurve class\n",
    "zc = zCurve.ZeroCurve()\n",
    "\n",
    "# add some zero rates to the curve\n",
    "zc.add_zero_rate(1, 0.05)\n",
    "zc.add_zero_rate(2, 0.06)\n",
    "zc.add_zero_rate(3, 0.07)\n"
   ]
  },
  {
   "cell_type": "markdown",
   "metadata": {},
   "source": [
    "### Set up a simple cash_flows object containing to cashflows manually added"
   ]
  },
  {
   "cell_type": "code",
   "execution_count": 5,
   "metadata": {},
   "outputs": [
    {
     "name": "stdout",
     "output_type": "stream",
     "text": [
      "[(1, 1000), (2.5, 1500)]\n",
      "[1, 2.5]\n",
      "[1000, 1500]\n",
      "2223.069980632588\n"
     ]
    },
    {
     "data": {
      "text/html": [
       "<div>\n",
       "<style scoped>\n",
       "    .dataframe tbody tr th:only-of-type {\n",
       "        vertical-align: middle;\n",
       "    }\n",
       "\n",
       "    .dataframe tbody tr th {\n",
       "        vertical-align: top;\n",
       "    }\n",
       "\n",
       "    .dataframe thead th {\n",
       "        text-align: right;\n",
       "    }\n",
       "</style>\n",
       "<table border=\"1\" class=\"dataframe\">\n",
       "  <thead>\n",
       "    <tr style=\"text-align: right;\">\n",
       "      <th></th>\n",
       "      <th>amount</th>\n",
       "    </tr>\n",
       "    <tr>\n",
       "      <th>maturity</th>\n",
       "      <th></th>\n",
       "    </tr>\n",
       "  </thead>\n",
       "  <tbody>\n",
       "    <tr>\n",
       "      <th>1.0</th>\n",
       "      <td>1000</td>\n",
       "    </tr>\n",
       "    <tr>\n",
       "      <th>2.5</th>\n",
       "      <td>1500</td>\n",
       "    </tr>\n",
       "  </tbody>\n",
       "</table>\n",
       "</div>"
      ],
      "text/plain": [
       "          amount\n",
       "maturity        \n",
       "1.0         1000\n",
       "2.5         1500"
      ]
     },
     "execution_count": 5,
     "metadata": {},
     "output_type": "execute_result"
    }
   ],
   "source": [
    "# create an instance of the CashFlows class called my_cash_flows\n",
    "my_cash_flows = inst.CashFlows()\n",
    "\n",
    "# add a cash flow of 1000 at time 1\n",
    "my_cash_flows.add_cash_flow(1, 1000)\n",
    "\n",
    "# add a cash flow of 1500 at time 2.5\n",
    "my_cash_flows.add_cash_flow(2.5, 1500)\n",
    "\n",
    "print(my_cash_flows.get_cash_flows())\n",
    "print(my_cash_flows.get_maturities())\n",
    "print(my_cash_flows.get_amounts())\n",
    "print(zc.npv(my_cash_flows))\n",
    "\n",
    "# create a new dataframe called cash_flows_df to store the cash flows\n",
    "cash_flows_df = pd.DataFrame(data={'maturity': my_cash_flows.get_maturities(), 'amount': my_cash_flows.get_amounts()})\n",
    "# set the index of the dataframe to be the maturity\n",
    "cash_flows_df.set_index('maturity', inplace=True)\n",
    "cash_flows_df\n",
    "\n",
    "\n",
    "\n"
   ]
  },
  {
   "cell_type": "markdown",
   "metadata": {},
   "source": [
    "### Set up and value a bank_bill"
   ]
  },
  {
   "cell_type": "code",
   "execution_count": 6,
   "metadata": {},
   "outputs": [
    {
     "name": "stdout",
     "output_type": "stream",
     "text": [
      "[(0, -98.52216748768474), (0.25, 100)]\n",
      "-0.5175974741957248\n"
     ]
    },
    {
     "data": {
      "text/html": [
       "<div>\n",
       "<style scoped>\n",
       "    .dataframe tbody tr th:only-of-type {\n",
       "        vertical-align: middle;\n",
       "    }\n",
       "\n",
       "    .dataframe tbody tr th {\n",
       "        vertical-align: top;\n",
       "    }\n",
       "\n",
       "    .dataframe thead th {\n",
       "        text-align: right;\n",
       "    }\n",
       "</style>\n",
       "<table border=\"1\" class=\"dataframe\">\n",
       "  <thead>\n",
       "    <tr style=\"text-align: right;\">\n",
       "      <th></th>\n",
       "      <th>Amount</th>\n",
       "    </tr>\n",
       "    <tr>\n",
       "      <th>Maturity</th>\n",
       "      <th></th>\n",
       "    </tr>\n",
       "  </thead>\n",
       "  <tbody>\n",
       "    <tr>\n",
       "      <th>0.00</th>\n",
       "      <td>-98.522167</td>\n",
       "    </tr>\n",
       "    <tr>\n",
       "      <th>0.25</th>\n",
       "      <td>100.000000</td>\n",
       "    </tr>\n",
       "  </tbody>\n",
       "</table>\n",
       "</div>"
      ],
      "text/plain": [
       "              Amount\n",
       "Maturity            \n",
       "0.00      -98.522167\n",
       "0.25      100.000000"
      ]
     },
     "execution_count": 6,
     "metadata": {},
     "output_type": "execute_result"
    }
   ],
   "source": [
    "# create an instance of the bank_bill class called my_bank_bill\n",
    "my_bank_bill = inst.Bank_bill()\n",
    "my_bank_bill.set_ytm(0.06)\n",
    "my_bank_bill.set_cash_flows()\n",
    "\n",
    "bank_bill_cashflows = my_bank_bill.get_cash_flows()\n",
    "print(bank_bill_cashflows)\n",
    "print(zc.npv(my_bank_bill))\n",
    "\n",
    "# create a new dataframe called cash_flows_df to store the cash flows\n",
    "bill_cash_flows_df = pd.DataFrame(data={'Maturity': my_bank_bill.get_maturities(), 'Amount': my_bank_bill.get_amounts()})\n",
    "# set the index of the dataframe to be the maturity\n",
    "bill_cash_flows_df.set_index('Maturity', inplace=True)\n",
    "bill_cash_flows_df"
   ]
  },
  {
   "cell_type": "markdown",
   "metadata": {},
   "source": [
    "### Set up and value a bond"
   ]
  },
  {
   "cell_type": "code",
   "execution_count": 7,
   "metadata": {},
   "outputs": [
    {
     "name": "stdout",
     "output_type": "stream",
     "text": [
      "The cashflows of the bond are : [(0, -99.99999999999999), (0.5, 2.5), (1, 102.5)]\n",
      "The PV of the bond is : -3.069312799655563\n",
      "\n",
      "Here are the cashflows of the bond in a dataframe : \n",
      "          Amount\n",
      "Maturity        \n",
      "0.0       -100.0\n",
      "0.5          2.5\n",
      "1.0        102.5\n",
      "\n",
      "Here are the cashflows of the bond in a table using the tabulate library: \n",
      "+------------+----------+\n",
      "|   Maturity |   Amount |\n",
      "|------------+----------|\n",
      "|        0   |   -100   |\n",
      "|        0.5 |      2.5 |\n",
      "|        1   |    102.5 |\n",
      "+------------+----------+\n",
      "99.99999999999999\n"
     ]
    }
   ],
   "source": [
    "# create an instance of the bond class called my_bond\n",
    "my_bond = inst.Bond()\n",
    "my_bond.set_maturity(1)\n",
    "my_bond.set_coupon(0.05)\n",
    "my_bond.set_frequency(2)\n",
    "my_bond.set_face_value(100)\n",
    "my_bond.set_ytm(0.05)\n",
    "\n",
    "my_bond.set_cash_flows()\n",
    "bond_cashflows = my_bond.get_cash_flows()\n",
    "print(\"The cashflows of the bond are : \" + str(bond_cashflows))\n",
    "print(\"The PV of the bond is : \" + str(zc.npv(my_bond)))\n",
    "print(\"\")\n",
    "\n",
    "# create a new dataframe called cash_flows_df to store the cash flows\n",
    "bond_cash_flows_df = pd.DataFrame(data={'Maturity': my_bond.get_maturities(), 'Amount': my_bond.get_amounts()})\n",
    "# set the index of the dataframe to be the maturity\n",
    "bond_cash_flows_df.set_index('Maturity', inplace=True)\n",
    "\n",
    "print(\"Here are the cashflows of the bond in a dataframe : \")\n",
    "print(bond_cash_flows_df.to_string())\n",
    "print(\"\")\n",
    "print(\"Here are the cashflows of the bond in a table using the tabulate library: \")\n",
    "print(tb.tabulate(bond_cash_flows_df, headers='keys', tablefmt='psql'))\n",
    "\n",
    "test_price = (my_bond.coupon/my_bond.frequency*my_bond.face_value)*(1-(1+my_bond.ytm/my_bond.frequency)**(-my_bond.maturity*my_bond.frequency))/(my_bond.ytm/my_bond.frequency) \\\n",
    "          + my_bond.face_value/((1 + my_bond.ytm/my_bond.frequency)**(my_bond.maturity*my_bond.frequency))\n",
    "print(test_price)"
   ]
  },
  {
   "cell_type": "markdown",
   "metadata": {},
   "source": [
    "### Set up a portfolio containing some bank bills and bonds\n",
    "The portfolio includes the bond and bill set up above as well as a new one of each."
   ]
  },
  {
   "cell_type": "code",
   "execution_count": 8,
   "metadata": {},
   "outputs": [
    {
     "name": "stdout",
     "output_type": "stream",
     "text": [
      "The bonds in the portfolio are : [<instrument_classes.Bond object at 0x7a81614a61b0>, <instrument_classes.Bond object at 0x7a81614a5d60>]\n",
      "The cashflows of my_bond_2 are : [(0, -1076.5167775176878), (0.25, 20.0), (0.5, 20.0), (0.75, 20.0), (1.0, 20.0), (1.25, 20.0), (1.5, 20.0), (1.75, 20.0), (2, 1020.0)]\n",
      "The PV of my_bond_2 is : -3.069312799655563\n",
      "\n",
      "The cashflows of the portfolio are : \n",
      "    Maturity       Amount\n",
      "0       0.00 -1076.516778\n",
      "1       0.25    20.000000\n",
      "2       0.50    20.000000\n",
      "3       0.75    20.000000\n",
      "4       1.00    20.000000\n",
      "5       1.25    20.000000\n",
      "6       1.50    20.000000\n",
      "7       1.75    20.000000\n",
      "8       2.00  1020.000000\n",
      "9       0.00  -100.000000\n",
      "10      0.50     2.500000\n",
      "11      1.00   102.500000\n",
      "12      0.00   -96.618357\n",
      "13      0.50   100.000000\n",
      "14      0.00   -98.522167\n",
      "15      0.25   100.000000\n",
      "The PV of the portfolio is : -3320.1680841742987\n",
      "\n"
     ]
    }
   ],
   "source": [
    "# create an instance of the portfolio class called my_portfolio\n",
    "my_portfolio = inst.Portfolio()\n",
    "\n",
    "# create another instance of the bond class called my_bond_2\n",
    "my_bond_2 = inst.Bond()\n",
    "my_bond_2.set_maturity(2)\n",
    "my_bond_2.set_coupon(0.08)\n",
    "my_bond_2.set_frequency(4)\n",
    "my_bond_2.set_face_value(1000)\n",
    "my_bond_2.set_ytm(0.04)\n",
    "my_bond_2.set_cash_flows()\n",
    "\n",
    "# add the bonds to the portfolio\n",
    "my_portfolio.add_bond(my_bond_2)\n",
    "my_portfolio.add_bond(my_bond)\n",
    "\n",
    "print(\"The bonds in the portfolio are : \" + str(my_portfolio.get_bonds()))\n",
    "bond_cashflows = my_bond_2.get_cash_flows()\n",
    "print(\"The cashflows of my_bond_2 are : \" + str(bond_cashflows))\n",
    "print(\"The PV of my_bond_2 is : \" + str(zc.npv(my_bond)))\n",
    "print(\"\")\n",
    "\n",
    "# create an instance of the bank_bill class called bank_bill_2\n",
    "bank_bill_2 = inst.Bank_bill()\n",
    "bank_bill_2.set_maturity(.5)\n",
    "bank_bill_2.set_ytm(0.07)\n",
    "bank_bill_2.set_cash_flows()\n",
    "\n",
    "my_portfolio.add_bank_bill(bank_bill_2)\n",
    "my_portfolio.add_bank_bill(my_bank_bill)\n",
    "\n",
    "my_portfolio.set_cash_flows()\n",
    "portfolio_cashflows = my_portfolio.get_cash_flows()\n",
    "print(\"The cashflows of the portfolio are : \")\n",
    "\n",
    "portfolio_cashflows_df = pd.DataFrame(data={'Maturity': my_portfolio.get_maturities(), 'Amount': my_portfolio.get_amounts()})\n",
    "print(portfolio_cashflows_df.to_string())\n",
    "\n",
    "print(\"The PV of the portfolio is : \" + str(zc.npv(my_portfolio)))\n",
    "print(\"\")\n",
    "\n",
    "\n",
    "\n",
    "\n"
   ]
  }
 ],
 "metadata": {
  "kernelspec": {
   "display_name": "Python 3",
   "language": "python",
   "name": "python3"
  },
  "language_info": {
   "codemirror_mode": {
    "name": "ipython",
    "version": 3
   },
   "file_extension": ".py",
   "mimetype": "text/x-python",
   "name": "python",
   "nbconvert_exporter": "python",
   "pygments_lexer": "ipython3",
   "version": "3.12.1"
  }
 },
 "nbformat": 4,
 "nbformat_minor": 2
}
